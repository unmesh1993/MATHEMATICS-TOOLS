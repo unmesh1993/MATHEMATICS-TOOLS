{
 "cells": [
  {
   "cell_type": "code",
   "execution_count": 6,
   "id": "f655d5e7",
   "metadata": {},
   "outputs": [
    {
     "name": "stdout",
     "output_type": "stream",
     "text": [
      "a0,a1,a2,a3,a4\n",
      "output:   337.50194490973814 387.4201812765916 -2487.8554739873225 -5133.9126333895865 -2453.464244812479\n",
      "chisq = 1.201214114035095\n",
      "minima[pos] -0.58\n",
      "stationary points   : [0.0778622764319320]\n"
     ]
    }
   ],
   "source": [
    "import numpy as np\n",
    "import os\n",
    "import sympy as sym\n",
    "from scipy.optimize import *\n",
    "\n",
    "def objective(x,a0,a1,a2,a3,a4):\n",
    "    eq = a0 + a1*x + a2*x**2 + a3*x**3 + a4*x**4\n",
    "    return eq\n",
    "\n",
    "def curve_fitting(e12,e2,a0,a1,a2,a3,a4):\n",
    "    start=[a0,a1,a2,a3,a4]\n",
    "\n",
    "    print ('a0,a1,a2,a3,a4')\n",
    "#    print ('Input:   ', a0,a1,a2,a3,a4)\n",
    "\n",
    "    popt, pcov = curve_fit (objective,e12,e2,p0=start)\n",
    "    a0,a1,a2,a3,a4 = popt\n",
    "\n",
    "    print ('output:  ', a0,a1,a2,a3,a4)\n",
    "#    print (pcov)\n",
    "    return a0,a1,a2,a3,a4\n",
    "\n",
    "res2='./data.dat'\n",
    "f=open(res2,'r')\n",
    "a=f.readlines()\n",
    "f.close\n",
    "\n",
    "const=400\n",
    "\n",
    "e12=[]\n",
    "e2=[]\n",
    "e2s=[]\n",
    "for j in range(100):\n",
    "    t=j+0*(100+1)\n",
    "    x=a[t].split()\n",
    "    if float(x[1]) < const:\n",
    "       e12.append(x[0])\n",
    "       e2.append(x[1])\n",
    "       e2s.append(x[2])\n",
    "\n",
    "e12=np.array(e12,float)\n",
    "e2=np.array(e2,float)\n",
    "e2s=np.array(e2s,float)\n",
    "\n",
    "a0=1.0\n",
    "a1=1.0\n",
    "a2=1.0\n",
    "a3=1.0\n",
    "a4=1.0\n",
    "\n",
    "\n",
    "a0,a1,a2,a3,a4=curve_fitting(e12,e2,a0,a1,a2,a3,a4)\n",
    "ee2=objective(e12,a0,a1,a2,a3,a4)\n",
    "\n",
    "# Compute chi square\n",
    "r = (e2 - ee2)\n",
    "chisq = np.sum((r)**2)\n",
    "print(\"chisq =\", chisq/(len(e2)-3))\n",
    "\n",
    "print ('minima[pos]', e12[np.argmin(ee2)])\n",
    "\n",
    "#####################################################################################################################################################################\n",
    "x = sym.symbols(\"x\")\n",
    "ffo=a0 + a1*x + a2*x**2\n",
    "gradient = sym.derive_by_array(ffo, (x))\n",
    "#hessian = sym.Matrix(1, 1, sym.derive_by_array(gradient, (x)))\n",
    "stationary_points = sym.solve(gradient, (x))\n",
    "print ('stationary points   :',stationary_points)"
   ]
  },
  {
   "cell_type": "code",
   "execution_count": null,
   "id": "8812c3a6",
   "metadata": {},
   "outputs": [],
   "source": []
  }
 ],
 "metadata": {
  "kernelspec": {
   "display_name": "Python 3",
   "language": "python",
   "name": "python3"
  },
  "language_info": {
   "codemirror_mode": {
    "name": "ipython",
    "version": 3
   },
   "file_extension": ".py",
   "mimetype": "text/x-python",
   "name": "python",
   "nbconvert_exporter": "python",
   "pygments_lexer": "ipython3",
   "version": "3.8.8"
  }
 },
 "nbformat": 4,
 "nbformat_minor": 5
}
